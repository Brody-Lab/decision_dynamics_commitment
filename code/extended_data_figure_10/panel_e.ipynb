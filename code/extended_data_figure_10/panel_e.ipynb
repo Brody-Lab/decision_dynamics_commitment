{
 "cells": [
  {
   "cell_type": "markdown",
   "id": "11cfe7d2",
   "metadata": {},
   "source": [
    "# Import libraries"
   ]
  },
  {
   "cell_type": "code",
   "execution_count": 1,
   "id": "e7b9028d",
   "metadata": {},
   "outputs": [],
   "source": [
    "import numpy as np \n",
    "from matplotlib.collections import LineCollection\n",
    "import matplotlib.colors as colors\n",
    "import matplotlib.pyplot as plt\n",
    "import matplotlib.patches\n",
    "import scipy.signal as signal\n",
    "\n",
    "data = np.load(\"../../data/processed_data/extended_data_figure_10/stability/stability_T176_2018_05_03.npz\")\n",
    "z_pc = data['z_pc']\n",
    "externalinputs=data['externalinputs']"
   ]
  },
  {
   "cell_type": "markdown",
   "id": "5143932c-a684-4e53-a1c5-54b2fd961635",
   "metadata": {},
   "source": [
    "# Generate plot"
   ]
  },
  {
   "cell_type": "code",
   "execution_count": 2,
   "id": "112a1c01",
   "metadata": {},
   "outputs": [
    {
     "name": "stderr",
     "output_type": "stream",
     "text": [
      "/var/folders/jn/x2x9w_8n77b_g5cnyyfbzc9w0000gp/T/ipykernel_19978/1772619792.py:108: MatplotlibDeprecationWarning: The get_cmap function was deprecated in Matplotlib 3.7 and will be removed in 3.11. Use ``matplotlib.colormaps[name]`` or ``matplotlib.colormaps.get_cmap()`` or ``pyplot.get_cmap()`` instead.\n",
      "  cmap = matplotlib.cm.get_cmap('gray')\n"
     ]
    },
    {
     "data": {
      "image/png": "[encoded data removed]",
      "text/plain": [
       "<Figure size 300x300 with 1 Axes>"
      ]
     },
     "metadata": {},
     "output_type": "display_data"
    }
   ],
   "source": [
    "# Smooth spikes with 20 ms std gaussian\n",
    "kern_sd_ms = 20\n",
    "kern_sd = int(round(kern_sd_ms / 10))\n",
    "window = signal.windows.gaussian(kern_sd * 6, kern_sd, sym=True)\n",
    "window /= np.sum(window)\n",
    "filt = lambda x: np.convolve(x, window, 'same')\n",
    "\n",
    "origin = np.nanmean(np.nanmean(z_pc, axis=0), axis=0)\n",
    "auto_modelfree = (np.zeros((5, z_pc.shape[0], 100)) > 0)\n",
    "temp = (externalinputs[:,:,1] > 0).astype(float) - (externalinputs[:,:,0] > 0).astype(float)\n",
    "\n",
    "radius = 0.2\n",
    "clicks_smoothed = np.apply_along_axis(filt, 1, externalinputs)/0.01\n",
    "startangle = (np.pi/2 - 2*np.pi/5)\n",
    "\n",
    "for trial in range(z_pc.shape[0]):\n",
    "    z = z_pc[trial, :, :] - z_pc[trial, 0, :]\n",
    "    radii = np.linalg.norm(z, axis=1)\n",
    "    thetas = np.arctan2(z[:, 1], z[:, 0])\n",
    "    z_ij = (startangle <= thetas) * \\\n",
    "        (thetas < (startangle + 2*np.pi/5)) * \\\n",
    "        (radii <= radius)\n",
    "    if np.sum(temp[trial, z_ij]) == 0:\n",
    "        auto_modelfree[0, trial, z_ij>0] = ~np.any(clicks_smoothed[trial, z_ij>0, :], axis=1)\n",
    "    else:\n",
    "        auto_modelfree[0, trial, z_ij>0] = 0\n",
    "\n",
    "for trial in range(z_pc.shape[0]):\n",
    "    z = z_pc[trial, :, :] - z_pc[trial, 0, :]\n",
    "    radii = np.linalg.norm(z, axis=1)\n",
    "    thetas = np.arctan2(z[:, 1], z[:, 0])\n",
    "    z_ij = ((startangle + 2*np.pi/5) <= thetas) * \\\n",
    "        (thetas < (startangle + 2*2*np.pi/5)) * \\\n",
    "        (radii <= radius)\n",
    "    if np.sum(temp[trial, z_ij]) == 0:\n",
    "        auto_modelfree[1, trial, z_ij>0] = ~np.any(clicks_smoothed[trial, z_ij>0, :], axis=1)\n",
    "    else:\n",
    "        auto_modelfree[1, trial, z_ij>0] = 0\n",
    "        \n",
    "for trial in range(z_pc.shape[0]):\n",
    "    z = z_pc[trial, :, :] - z_pc[trial, 0, :]\n",
    "    radii = np.linalg.norm(z, axis=1)\n",
    "    thetas = np.arctan2(z[:, 1], z[:, 0])\n",
    "    z_ij = ( ((startangle + 2*2*np.pi/5) <= thetas) + (thetas < -(2*2*np.pi/5 - startangle)) ) * \\\n",
    "        (radii <= radius)\n",
    "    if np.sum(temp[trial, z_ij]) == 0:\n",
    "        auto_modelfree[2, trial, z_ij>0] = ~np.any(clicks_smoothed[trial, z_ij>0, :], axis=1)\n",
    "    else:\n",
    "        auto_modelfree[2, trial, z_ij>0] = 0\n",
    "\n",
    "for trial in range(z_pc.shape[0]):\n",
    "    z = z_pc[trial, :, :] - z_pc[trial, 0, :]\n",
    "    radii = np.linalg.norm(z, axis=1)\n",
    "    thetas = np.arctan2(z[:, 1], z[:, 0])\n",
    "    z_ij = (-(2*2*np.pi/5 - startangle) <= thetas) * (thetas < -(2*np.pi/5 - startangle)) * \\\n",
    "        (radii <= radius)\n",
    "    if np.sum(temp[trial, z_ij]) == 0:\n",
    "        auto_modelfree[3, trial, z_ij>0] = ~np.any(clicks_smoothed[trial, z_ij>0, :], axis=1)\n",
    "    else:\n",
    "        auto_modelfree[3, trial, z_ij>0] = 0        \n",
    "\n",
    "for trial in range(z_pc.shape[0]):\n",
    "    z = z_pc[trial, :, :] - z_pc[trial, 0, :]\n",
    "    radii = np.linalg.norm(z, axis=1)\n",
    "    thetas = np.arctan2(z[:, 1], z[:, 0])\n",
    "    z_ij = (-(2*np.pi/5 - startangle) <= thetas) * (thetas < startangle) * \\\n",
    "        (radii <= radius)\n",
    "    if np.sum(temp[trial, z_ij]) == 0:\n",
    "        auto_modelfree[4, trial, z_ij>0] = ~np.any(clicks_smoothed[trial, z_ij>0, :], axis=1)\n",
    "    else:\n",
    "        auto_modelfree[4, trial, z_ij>0] = 0          \n",
    "        \n",
    "modelfree_u = np.zeros(5)\n",
    "modelfree_v = np.zeros(5)\n",
    "\n",
    "z_pc_dot = (z_pc[:, 1:, :] - z_pc[:, :99, :])/0.01\n",
    "z_pc_dot = np.hstack((np.zeros((z_pc_dot.shape[0], 1, 2)), z_pc_dot))\n",
    "z_pc_dot_ = np.reshape(z_pc_dot, (-1, 2))\n",
    "for i in range(5):\n",
    "    uv = np.nanmean(z_pc_dot_[auto_modelfree[i, :, :].flatten(), :], axis=0)\n",
    "    modelfree_u[i] = uv[0]\n",
    "    modelfree_v[i] = uv[1]\n",
    "\n",
    "sizes = [20, 20, 20, 20, 20]\n",
    "\n",
    "fig1, ax1 = plt.subplots()\n",
    "fig1.set_size_inches(3,3)\n",
    "wedges1, texts = ax1.pie(\n",
    "    sizes, \n",
    "    radius = 1, \n",
    "    wedgeprops={'edgecolor': 'black', 'linewidth': 1}, \n",
    "    startangle=(np.pi/2 - 2*np.pi/5)*180/np.pi\n",
    ")\n",
    "circle = matplotlib.patches.Circle(\n",
    "    wedges1[0].center, \n",
    "    0.5, \n",
    "    fill=False, \n",
    "    edgecolor=\"k\", \n",
    "    linewidth=1, \n",
    "    linestyle='--'\n",
    ")\n",
    "\n",
    "# add the circle to the axes\n",
    "ax1.add_patch(circle)\n",
    "ax1.axis('equal')\n",
    "\n",
    "norm = colors.LogNorm(vmin=0.1, vmax=1)\n",
    "cmap = matplotlib.cm.get_cmap('gray')\n",
    "\n",
    "# Draw the arrow\n",
    "for jjj in range(5):\n",
    "    uv = np.array([modelfree_u[jjj], modelfree_v[jjj]])\n",
    "    uv1 = 0.2 * uv / np.linalg.norm(uv)\n",
    "    xposition = 0.5*np.cos(startangle + 2*(jjj)*np.pi/5 + np.pi/5)\n",
    "    yposition = 0.5*np.sin(startangle + 2*(jjj)*np.pi/5 + np.pi/5)\n",
    "    ax1.arrow(xposition, yposition, uv1[0], uv1[1], head_width=0.1, head_length=0.15, \n",
    "                fc=cmap(norm(0.1*np.linalg.norm(uv))), ec='k')\n",
    "\n",
    "# Set facecolor to 'none' for no fill color\n",
    "for wedge1 in wedges1:\n",
    "    wedge1.set_facecolor('none')"
   ]
  }
 ],
 "metadata": {
  "kernelspec": {
   "display_name": "Python 3 (ipykernel)",
   "language": "python",
   "name": "python3"
  },
  "language_info": {
   "codemirror_mode": {
    "name": "ipython",
    "version": 3
   },
   "file_extension": ".py",
   "mimetype": "text/x-python",
   "name": "python",
   "nbconvert_exporter": "python",
   "pygments_lexer": "ipython3",
   "version": "3.12.10"
  }
 },
 "nbformat": 4,
 "nbformat_minor": 5
}
