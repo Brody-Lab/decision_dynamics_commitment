{
 "cells": [
  {
   "cell_type": "code",
   "execution_count": 1,
   "id": "96136f27",
   "metadata": {},
   "outputs": [],
   "source": [
    "import numpy as np\n",
    "import matplotlib.pyplot as plt\n",
    "from matplotlib.collections import LineCollection\n",
    "import matplotlib.colors as colors\n",
    "import matplotlib"
   ]
  },
  {
   "cell_type": "code",
   "execution_count": 2,
   "id": "b8a51758",
   "metadata": {},
   "outputs": [],
   "source": [
    "def ReLU(x):\n",
    "    return x * (x > 0)\n",
    "\n",
    "def sigmoid(x):\n",
    "    return 1 / (1 + np.exp(-x))"
   ]
  },
  {
   "cell_type": "code",
   "execution_count": 3,
   "id": "04efcad6",
   "metadata": {},
   "outputs": [
    {
     "data": {
      "text/plain": [
       "(-1.0, 1.0)"
      ]
     },
     "execution_count": 3,
     "metadata": {},
     "output_type": "execute_result"
    },
    {
     "data": {
      "image/png": "[encoded data removed]",
      "text/plain": [
       "<Figure size 300x300 with 1 Axes>"
      ]
     },
     "metadata": {},
     "output_type": "display_data"
    }
   ],
   "source": [
    "fig, ax = plt.subplots(figsize=(3, 3))\n",
    "\n",
    "resolution = 11\n",
    "x_, y_ = np.meshgrid(\n",
    "    np.linspace(-1, 1, num=resolution), \n",
    "    np.linspace(-1, 1, num=resolution)\n",
    ")\n",
    "\n",
    "u_ = np.zeros_like(x_)\n",
    "v_ = np.zeros_like(y_)\n",
    "u_left_ = np.zeros_like(x_)\n",
    "v_left_ = np.zeros_like(y_)\n",
    "u_right_ = np.zeros_like(x_)\n",
    "v_right_ = np.zeros_like(y_)\n",
    "\n",
    "theta = 0.\n",
    "a = np.sin(theta)\n",
    "b = np.cos(theta)\n",
    "\n",
    "r = 0.\n",
    "sigma_squared = 10\n",
    "sigma_squared = 0.2*sigmoid(sigma_squared)\n",
    "scale = 5\n",
    "\n",
    "fp_loc = 0.7\n",
    "fp = np.array([fp_loc, 0.])\n",
    "\n",
    "V = np.array([[1., a], [0., b]])\n",
    "L = np.array([[0., 0.], [0., -ReLU(r)]])\n",
    "V_inv = np.array([[1., -a / b], [0., 1. / b]])\n",
    "M = V @ L @ V_inv\n",
    "\n",
    "for i in range(resolution):\n",
    "    for j in range(resolution):\n",
    "        xy = np.array([x_[i,j], y_[i,j]])\n",
    "        z_linear = M @ xy\n",
    "        z_sp = -1 * np.exp(-(xy - fp)**2/sigma_squared) * (xy - fp) + \\\n",
    "            -1 * np.exp(-(xy + fp)**2/sigma_squared) * (xy + fp)\n",
    "        uv = .5*(z_linear + scale*z_sp)\n",
    "        u_[i, j] = uv[0]\n",
    "        v_[i, j] = uv[1]\n",
    "        u_left_[i, j] = -1\n",
    "        v_left_[i, j] = 0\n",
    "        u_right_[i, j] = 1\n",
    "        v_right_[i, j] = 0\n",
    "\n",
    "ax.set_aspect('equal')\n",
    "ax.quiver(x_, y_, u_, v_, angles='xy', scale_units='xy', scale=15)\n",
    "\n",
    "ax.spines['top'].set_visible(False)\n",
    "ax.spines['right'].set_visible(False)\n",
    "ax.spines['bottom'].set_linewidth(1)\n",
    "ax.spines['left'].set_linewidth(1)\n",
    "ax.set_xticks([])\n",
    "ax.set_yticks([])\n",
    "ax.tick_params(axis='both', which='major', labelsize=25)\n",
    "\n",
    "ax.set_xlim([-1, 1])\n",
    "ax.set_ylim([-1, 1])"
   ]
  },
  {
   "cell_type": "code",
   "execution_count": 4,
   "id": "b98487fa",
   "metadata": {},
   "outputs": [
    {
     "data": {
      "text/plain": [
       "(-1.0, 1.0)"
      ]
     },
     "execution_count": 4,
     "metadata": {},
     "output_type": "execute_result"
    },
    {
     "data": {
      "image/png": "[encoded data removed]",
      "text/plain": [
       "<Figure size 300x300 with 1 Axes>"
      ]
     },
     "metadata": {},
     "output_type": "display_data"
    }
   ],
   "source": [
    "fig, ax = plt.subplots(figsize=(3, 3))\n",
    "\n",
    "resolution = 11\n",
    "x_, y_ = np.meshgrid(\n",
    "    np.linspace(-1, 1, num=resolution), \n",
    "    np.linspace(-1, 1, num=resolution)\n",
    ")\n",
    "\n",
    "u_ = np.zeros_like(x_)\n",
    "v_ = np.zeros_like(y_)\n",
    "u_left_ = np.zeros_like(x_)\n",
    "v_left_ = np.zeros_like(y_)\n",
    "u_right_ = np.zeros_like(x_)\n",
    "v_right_ = np.zeros_like(y_)\n",
    "\n",
    "theta = 0.\n",
    "a = np.sin(theta)\n",
    "b = np.cos(theta)\n",
    "r = 10\n",
    "sigma_squared = -10\n",
    "sigma_squared = sigmoid(sigma_squared)\n",
    "scale = 1\n",
    "fp_loc = 3.5\n",
    "fp = np.array([fp_loc, 0.])\n",
    "\n",
    "V = np.array([[1., a], [0., b]])\n",
    "L = np.array([[0., 0.], [0., -ReLU(r)]])\n",
    "V_inv = np.array([[1., -a / b], [0., 1. / b]])\n",
    "M = V @ L @ V_inv\n",
    "\n",
    "for i in range(resolution):\n",
    "    for j in range(resolution):\n",
    "        xy = np.array([x_[i,j], y_[i,j]])\n",
    "        z_linear = M @ xy\n",
    "        z_sp = -1 * np.exp(-(xy - fp)**2/sigma_squared) * (xy - fp) + \\\n",
    "            -1 * np.exp(-(xy + fp)**2/sigma_squared) * (xy + fp)\n",
    "        uv = 5.*(z_linear + scale*z_sp)\n",
    "        u_[i, j] = uv[0]\n",
    "        v_[i, j] = uv[1]\n",
    "        u_left_[i, j] = -1\n",
    "        v_left_[i, j] = 0\n",
    "        u_right_[i, j] = 1\n",
    "        v_right_[i, j] = 0\n",
    "\n",
    "ax.set_aspect('equal')\n",
    "ax.quiver(x_, y_, u_, v_, angles='xy', scale_units='xy', scale=150)\n",
    "\n",
    "ax.spines['top'].set_visible(False)\n",
    "ax.spines['right'].set_visible(False)\n",
    "ax.spines['bottom'].set_linewidth(1)\n",
    "ax.spines['left'].set_linewidth(1)\n",
    "ax.set_xticks([])\n",
    "ax.set_yticks([])\n",
    "ax.tick_params(axis='both', which='major', labelsize=25)\n",
    "\n",
    "ax.set_xlim([-1, 1])\n",
    "ax.set_ylim([-1, 1])"
   ]
  },
  {
   "cell_type": "code",
   "execution_count": 5,
   "id": "ce204151",
   "metadata": {},
   "outputs": [
    {
     "data": {
      "text/plain": [
       "(-1.0, 1.0)"
      ]
     },
     "execution_count": 5,
     "metadata": {},
     "output_type": "execute_result"
    },
    {
     "data": {
      "image/png": "[encoded data removed]",
      "text/plain": [
       "<Figure size 300x300 with 1 Axes>"
      ]
     },
     "metadata": {},
     "output_type": "display_data"
    }
   ],
   "source": [
    "fig, ax = plt.subplots(figsize=(3, 3))\n",
    "\n",
    "resolution = 11\n",
    "x_, y_ = np.meshgrid(\n",
    "    np.linspace(-1, 1, num=resolution), \n",
    "    np.linspace(-1, 1, num=resolution)\n",
    ")\n",
    "\n",
    "u_ = np.zeros_like(x_)\n",
    "v_ = np.zeros_like(y_)\n",
    "u_left_ = np.zeros_like(x_)\n",
    "v_left_ = np.zeros_like(y_)\n",
    "u_right_ = np.zeros_like(x_)\n",
    "v_right_ = np.zeros_like(y_)\n",
    "\n",
    "theta = 0.785398\n",
    "\n",
    "a = np.sin(theta)\n",
    "b = np.cos(theta)\n",
    "r = 5\n",
    "sigma_squared = 0.01\n",
    "scale = 1\n",
    "fp_loc = 0.7\n",
    "fp = np.array([fp_loc, 0.])\n",
    "\n",
    "V = np.array([[1., a], [0., b]])\n",
    "L = np.array([[0., 0.], [0., -ReLU(r)]])\n",
    "V_inv = np.array([[1., -a / b], [0., 1. / b]])\n",
    "M = V @ L @ V_inv\n",
    "\n",
    "for i in range(resolution):\n",
    "    for j in range(resolution):\n",
    "        xy = np.array([x_[i,j], y_[i,j]])\n",
    "        z_linear = M @ xy\n",
    "        z_sp = -1 * np.exp(-(xy - fp)**2/sigma_squared) * (xy - fp) + \\\n",
    "            -1 * np.exp(-(xy + fp)**2/sigma_squared) * (xy + fp)\n",
    "        uv = 5.*(z_linear + scale*z_sp)\n",
    "        u_[i, j] = uv[0]\n",
    "        v_[i, j] = uv[1]\n",
    "        u_left_[i, j] = -1\n",
    "        v_left_[i, j] = 0\n",
    "        u_right_[i, j] = 1\n",
    "        v_right_[i, j] = 0\n",
    "\n",
    "ax.set_aspect('equal')\n",
    "\n",
    "ax.quiver(x_, y_, u_, v_, angles='xy', scale_units='xy', scale=80)\n",
    "\n",
    "ax.spines['top'].set_visible(False)\n",
    "ax.spines['right'].set_visible(False)\n",
    "ax.spines['bottom'].set_linewidth(1)\n",
    "ax.spines['left'].set_linewidth(1)\n",
    "ax.set_xticks([])\n",
    "ax.set_yticks([])\n",
    "ax.tick_params(axis='both', which='major', labelsize=25)\n",
    "\n",
    "ax.set_xlim([-1, 1])\n",
    "ax.set_ylim([-1, 1])"
   ]
  }
 ],
 "metadata": {
  "kernelspec": {
   "display_name": "Python 3 (ipykernel)",
   "language": "python",
   "name": "python3"
  },
  "language_info": {
   "codemirror_mode": {
    "name": "ipython",
    "version": 3
   },
   "file_extension": ".py",
   "mimetype": "text/x-python",
   "name": "python",
   "nbconvert_exporter": "python",
   "pygments_lexer": "ipython3",
   "version": "3.12.10"
  }
 },
 "nbformat": 4,
 "nbformat_minor": 5
}
