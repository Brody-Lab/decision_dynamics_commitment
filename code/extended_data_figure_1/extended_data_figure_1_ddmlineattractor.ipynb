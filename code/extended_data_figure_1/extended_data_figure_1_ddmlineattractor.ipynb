{
 "cells": [
  {
   "cell_type": "markdown",
   "id": "60b52642-acf7-4f51-9f28-419e4e5489b3",
   "metadata": {},
   "source": [
    "# Load libraries"
   ]
  },
  {
   "cell_type": "code",
   "execution_count": 1,
   "id": "f51779a1",
   "metadata": {},
   "outputs": [],
   "source": [
    "import numpy as np\n",
    "import matplotlib.pyplot as plt\n",
    "from matplotlib.collections import LineCollection\n",
    "import matplotlib.colors as colors\n",
    "import matplotlib"
   ]
  },
  {
   "cell_type": "markdown",
   "id": "76e9771e-e830-4d2f-9e47-4c7e891e6e2e",
   "metadata": {},
   "source": [
    "# Color palette"
   ]
  },
  {
   "cell_type": "code",
   "execution_count": 2,
   "id": "13f94fec",
   "metadata": {},
   "outputs": [],
   "source": [
    "blue = [0.229999504, 0.298998934, 0.754000139]\n",
    "red = [0.706000136, 0.015991824, 0.150000072]"
   ]
  },
  {
   "cell_type": "markdown",
   "id": "1ab039f0-7770-4249-9991-62bebf4de361",
   "metadata": {},
   "source": [
    "# Extended Data Figure 1a"
   ]
  },
  {
   "cell_type": "code",
   "execution_count": 3,
   "id": "94f682f3",
   "metadata": {},
   "outputs": [
    {
     "data": {
      "text/plain": [
       "(-1.0, 1.0)"
      ]
     },
     "execution_count": 3,
     "metadata": {},
     "output_type": "execute_result"
    },
    {
     "data": {
      "image/png": "[encoded data removed]",
      "text/plain": [
       "<Figure size 300x300 with 1 Axes>"
      ]
     },
     "metadata": {},
     "output_type": "display_data"
    }
   ],
   "source": [
    "fig, ax = plt.subplots(figsize=(3, 3))\n",
    "\n",
    "resolution = 11\n",
    "x_, y_ = np.meshgrid(\n",
    "    np.linspace(-1, 1, num=resolution), \n",
    "    np.linspace(-1, 1, num=resolution)\n",
    ")\n",
    "\n",
    "u_ = np.zeros_like(x_)\n",
    "v_ = np.zeros_like(y_)\n",
    "u_left_ = np.zeros_like(x_)\n",
    "v_left_ = np.zeros_like(y_)\n",
    "u_right_ = np.zeros_like(x_)\n",
    "v_right_ = np.zeros_like(y_)\n",
    "\n",
    "for i in range(resolution):\n",
    "    for j in range(resolution):\n",
    "        if x_[i, j] >= 0.7 or x_[i, j] <= -0.7:\n",
    "            u_[i, j] = 1/3 * x_[i, j] * (0.49 - x_[i, j]**2)\n",
    "            v_[i, j] = -1*y_[i, j]\n",
    "        else:\n",
    "            u_[i, j] = 0\n",
    "            v_[i, j] = -1*y_[i, j]\n",
    "        u_left_[i, j] = -1\n",
    "        v_left_[i, j] = 0\n",
    "        u_right_[i, j] = 1\n",
    "        v_right_[i, j] = 0\n",
    "\n",
    "ax.set_aspect('equal')\n",
    "ax.quiver(x_, y_, u_, v_, angles='xy', scale_units='xy', scale=3)\n",
    "ax.spines['top'].set_visible(False)\n",
    "ax.spines['right'].set_visible(False)\n",
    "ax.spines['bottom'].set_linewidth(1)\n",
    "ax.spines['left'].set_linewidth(1)\n",
    "ax.set_xticks([])\n",
    "ax.set_yticks([])\n",
    "ax.tick_params(axis='both', which='major', labelsize=25)\n",
    "ax.set_xlim([-1, 1])\n",
    "ax.set_ylim([-1, 1])"
   ]
  },
  {
   "cell_type": "markdown",
   "id": "b03d3019-5382-47a1-94ea-27409d67bfba",
   "metadata": {},
   "source": [
    "# Extended Data Figure 1b"
   ]
  },
  {
   "cell_type": "code",
   "execution_count": 4,
   "id": "4561fb01",
   "metadata": {},
   "outputs": [
    {
     "data": {
      "image/png": "[encoded data removed]",
      "text/plain": [
       "<Figure size 300x300 with 2 Axes>"
      ]
     },
     "metadata": {},
     "output_type": "display_data"
    }
   ],
   "source": [
    "fig, ax = plt.subplots(figsize=(3, 3))\n",
    "\n",
    "resolution = 110\n",
    "x, y = np.meshgrid(\n",
    "    np.linspace(-1, 1, num=resolution), \n",
    "    np.linspace(-1, 1, num=resolution)\n",
    ")\n",
    "\n",
    "u = np.zeros_like(x)\n",
    "v = np.zeros_like(y)\n",
    "u_left = np.zeros_like(x)\n",
    "v_left = np.zeros_like(y)\n",
    "u_right = np.zeros_like(x)\n",
    "v_right = np.zeros_like(y)\n",
    "energy = np.zeros_like(x)\n",
    "energy_input = np.zeros_like(x)\n",
    "\n",
    "for i in range(resolution):\n",
    "    for j in range(resolution):\n",
    "        if x[i, j] >= 0.7 or x[i, j] <= -0.7:\n",
    "            u[i, j] = 1/3 * x[i, j] * (0.49 - x[i, j]**2)\n",
    "            v[i, j] = -1*y[i, j]\n",
    "        else:\n",
    "            u[i, j] = 0\n",
    "            v[i, j] = -1*y[i, j]\n",
    "        energy[i, j] = np.sqrt(u[i, j]**2 + v[i, j]**2)      \n",
    "        \n",
    "ax.set_aspect('equal')\n",
    "c1 = ax.pcolormesh(\n",
    "    x,\n",
    "    y,\n",
    "    energy, \n",
    "    cmap='gray', \n",
    "    norm=matplotlib.colors.LogNorm(vmin=0.01, vmax=1)\n",
    ")\n",
    "\n",
    "ax.spines['top'].set_visible(False)\n",
    "ax.spines['right'].set_visible(False)\n",
    "ax.spines['bottom'].set_linewidth(1)\n",
    "ax.spines['left'].set_linewidth(1)\n",
    "ax.set_xticks([])\n",
    "ax.set_yticks([])\n",
    "ax.tick_params(axis='both', which='major', labelsize=25)\n",
    "ax.set_xlim([-1, 1])\n",
    "ax.set_ylim([-1, 1])\n",
    "\n",
    "cbar = fig.colorbar(c1, ax=ax, fraction=0.045, pad=0.04)\n",
    "cbar.ax.set_yscale('log')\n",
    "cbar.ax.set_yticks([])\n",
    "cbar.ax.tick_params(labelsize=25)"
   ]
  },
  {
   "cell_type": "markdown",
   "id": "4e7f5808-f112-4e12-8d87-64374094db2e",
   "metadata": {},
   "source": [
    "# Generate click stimuli"
   ]
  },
  {
   "cell_type": "code",
   "execution_count": 5,
   "id": "a0995f99",
   "metadata": {},
   "outputs": [],
   "source": [
    "np.random.seed(1)\n",
    "nsimtrials = 10000\n",
    "gammas = np.random.choice([-3.5, -2.5, -1.5, -0.5, 0.5, 1.5, 2.5, 3.5], size=nsimtrials)\n",
    "rL = 40/(1 + np.exp(gammas))\n",
    "rR = 40/(1 + np.exp(-gammas))\n",
    "\n",
    "phi = 1e-3\n",
    "k = 100\n",
    "clicks = np.zeros((nsimtrials, 100, 2))\n",
    "\n",
    "for trial in range(nsimtrials):\n",
    "    leftclicktimes = np.cumsum(np.random.exponential(scale=1/rL[trial], size=100))\n",
    "    leftclicktimes = leftclicktimes[leftclicktimes <= 1]\n",
    "    leftclicktimes = np.insert(leftclicktimes, 0, 0)\n",
    "    rightclicktimes = np.cumsum(np.random.exponential(scale=1/rR[trial], size=100))\n",
    "    rightclicktimes = rightclicktimes[rightclicktimes <= 1]\n",
    "    rightclicktimes = np.insert(rightclicktimes, 0, 0)\n",
    "    clicktimes = np.sort(np.hstack((leftclicktimes, rightclicktimes)))[1:]\n",
    "    adapted_clicks = np.zeros_like(clicktimes)\n",
    "    adapted_clicks[0] = 1.0 - (1.0-phi)*np.exp(-k*clicktimes[0])\n",
    "\n",
    "    for i in range(1, len(clicktimes)):\n",
    "        delta_t = clicktimes[i] - clicktimes[i-1]\n",
    "        adapted_clicks[i] = 1.0 - (1.0-phi*adapted_clicks[i-1])*np.exp(-k*delta_t)\n",
    "\n",
    "    leftindex = [i for i, x in enumerate(clicktimes) if x in leftclicktimes]\n",
    "    rightindex = [i for i, x in enumerate(clicktimes) if x in rightclicktimes]\n",
    "\n",
    "    left_adapted_clicks = adapted_clicks[leftindex]\n",
    "    right_adapted_clicks = adapted_clicks[rightindex]\n",
    "    \n",
    "    t_end = np.random.choice([50, 70, 90])\n",
    "\n",
    "    for t in range(t_end):\n",
    "        left_click_indx = (0.01*t <= leftclicktimes) & (leftclicktimes < 0.01*(t+1))\n",
    "        right_click_indx = (0.01*t <= rightclicktimes) & (rightclicktimes < 0.01*(t+1))\n",
    "        cL = np.sum(left_adapted_clicks[left_click_indx])\n",
    "        cR = np.sum(right_adapted_clicks[right_click_indx])\n",
    "        clicks[trial, t, 0] = cL\n",
    "        clicks[trial, t, 1] = cR\n",
    "clicks[:, 0, :] = 0\n",
    "cweight = np.array([[-1, 1], [0, 0]]) / 40\n",
    "\n",
    "latent = np.zeros((nsimtrials, 100, 2))\n",
    "noise = 0.005\n",
    "dt = 0.01\n",
    "for trial in range(nsimtrials):\n",
    "    for time in range(99):\n",
    "        if (latent[trial , time, 0] >= 0.7) or (latent[trial , time, 0] <= -0.7):\n",
    "            latent[trial, time+1, :] = latent[trial , time, :] + dt * np.array(\n",
    "                [10*latent[trial , time, 0] * (0.49 - latent[trial , time, 0]**2), -30 * latent[trial , time, 1]]) + noise * np.random.randn(2)\n",
    "        else:\n",
    "            latent[trial, time+1, :] = latent[trial , time, :] + dt * np.array(\n",
    "                [0., -30 * latent[trial , time, 1]]) + clicks[trial, time, :] @ cweight.T + noise * np.random.randn(2)"
   ]
  },
  {
   "cell_type": "code",
   "execution_count": 6,
   "id": "db860ad8",
   "metadata": {},
   "outputs": [
    {
     "name": "stderr",
     "output_type": "stream",
     "text": [
      "/var/folders/jn/x2x9w_8n77b_g5cnyyfbzc9w0000gp/T/ipykernel_7987/580491618.py:39: RuntimeWarning: invalid value encountered in divide\n",
      "  p_lc = counts_leftclick/counts\n",
      "/var/folders/jn/x2x9w_8n77b_g5cnyyfbzc9w0000gp/T/ipykernel_7987/580491618.py:40: RuntimeWarning: invalid value encountered in divide\n",
      "  p_rc = counts_rightclick/counts\n",
      "/var/folders/jn/x2x9w_8n77b_g5cnyyfbzc9w0000gp/T/ipykernel_7987/580491618.py:111: RuntimeWarning: invalid value encountered in divide\n",
      "  p_lc_ = counts_leftclick/counts\n",
      "/var/folders/jn/x2x9w_8n77b_g5cnyyfbzc9w0000gp/T/ipykernel_7987/580491618.py:112: RuntimeWarning: invalid value encountered in divide\n",
      "  p_rc_ = counts_rightclick/counts\n"
     ]
    }
   ],
   "source": [
    "resolution = 110\n",
    "x, y = np.meshgrid(\n",
    "    np.linspace(-1, 1, num=resolution), \n",
    "    np.linspace(-0.2, 0.2, num=resolution)\n",
    ")\n",
    "\n",
    "z_pc_flat_ = np.reshape(latent[:,:100,:], (-1, 2))\n",
    "leftclicks = np.reshape(clicks[:,:,0], -1) # left clicks\n",
    "leftclicks = leftclicks > 0\n",
    "\n",
    "rightclicks = np.reshape(clicks[:,:,1], -1) # right clicks\n",
    "rightclicks = rightclicks > 0\n",
    "\n",
    "z_pc_flat = np.reshape(latent, (-1, 2))\n",
    "leftclick_locs = z_pc_flat[leftclicks, :]\n",
    "rightclick_locs = z_pc_flat[rightclicks, :]\n",
    "\n",
    "counts_leftclick,xbins,ybins = np.histogram2d(\n",
    "    leftclick_locs[:, 0], \n",
    "    leftclick_locs[:, 1],\n",
    "    bins=resolution,\n",
    "    range=[[-1, 1], [-0.2, 0.2]]\n",
    ")\n",
    "\n",
    "counts_rightclick,xbins,ybins = np.histogram2d(\n",
    "    rightclick_locs[:, 0], \n",
    "    rightclick_locs[:, 1],\n",
    "    bins=resolution,\n",
    "    range=[[-1, 1], [-0.2, 0.2]]\n",
    ")\n",
    "\n",
    "counts,xbins,ybins = np.histogram2d(\n",
    "    z_pc_flat_[:, 0], \n",
    "    z_pc_flat_[:, 1],\n",
    "    bins=resolution,\n",
    "    range=[[-1, 1], [-0.2, 0.2]]\n",
    ")\n",
    "\n",
    "p_lc = counts_leftclick/counts\n",
    "p_rc = counts_rightclick/counts\n",
    "p_lc[np.isnan(p_lc)] = 0\n",
    "p_rc[np.isnan(p_rc)] = 0\n",
    "\n",
    "u = np.zeros_like(x)\n",
    "v = np.zeros_like(y)\n",
    "u_left = np.zeros_like(x)\n",
    "v_left = np.zeros_like(y)\n",
    "u_right = np.zeros_like(x)\n",
    "v_right = np.zeros_like(y)\n",
    "energy = np.zeros_like(x)\n",
    "energy_left = np.zeros_like(x)\n",
    "energy_right = np.zeros_like(x)\n",
    "w = np.zeros_like(x)\n",
    "w_left = np.zeros_like(x)\n",
    "w_right = np.zeros_like(x)\n",
    "\n",
    "for i in range(resolution):\n",
    "    for j in range(resolution):\n",
    "        uv_left = np.array([-1/40, 0])\n",
    "        energy_left[i, j] = np.linalg.norm(uv_left)\n",
    "        u_left[i, j] = uv_left[0]\n",
    "        v_left[i, j] = uv_left[1]\n",
    "\n",
    "for i in range(resolution):\n",
    "    for j in range(resolution):\n",
    "        uv_right = [1/40, 0]\n",
    "        energy_right[i, j] = np.linalg.norm(uv_right)\n",
    "        u_right[i, j] = uv_right[0]\n",
    "        v_right[i, j] = uv_right[1]\n",
    "\n",
    "\n",
    "# Flow field\n",
    "resolution = 11\n",
    "x_, y_ = np.meshgrid(\n",
    "    np.linspace(-1, 1, num=resolution), \n",
    "    np.linspace(-0.2, 0.2, num=resolution)\n",
    ")\n",
    "\n",
    "z_pc_flat_ = np.reshape(latent[:,:100,:], (-1, 2))\n",
    "leftclicks = np.reshape(clicks[:,:,0], -1) # left clicks\n",
    "leftclicks = leftclicks > 0\n",
    "\n",
    "rightclicks = np.reshape(clicks[:,:,1], -1) # right clicks\n",
    "rightclicks = rightclicks > 0\n",
    "\n",
    "z_pc_flat = np.reshape(latent, (-1, 2))\n",
    "leftclick_locs = z_pc_flat[leftclicks, :]\n",
    "rightclick_locs = z_pc_flat[rightclicks, :]\n",
    "\n",
    "counts_leftclick,xbins,ybins = np.histogram2d(\n",
    "    leftclick_locs[:, 0], \n",
    "    leftclick_locs[:, 1],\n",
    "    bins=resolution,\n",
    "    range=[[-1 - 1/10, 1 + 1/10], [0.2*(-1 - 1/10), 0.2*(1 + 1/10)]]\n",
    ")\n",
    "\n",
    "counts_rightclick,xbins,ybins = np.histogram2d(\n",
    "    rightclick_locs[:, 0], \n",
    "    rightclick_locs[:, 1],\n",
    "    bins=resolution,\n",
    "    range=[[-1 - 1/10, 1 + 1/10], [0.2*(-1 - 1/10), 0.2*(1 + 1/10)]]\n",
    ")\n",
    "\n",
    "counts,xbins,ybins = np.histogram2d(\n",
    "    z_pc_flat_[:, 0], \n",
    "    z_pc_flat_[:, 1],\n",
    "    bins=resolution,\n",
    "    range=[[-1 - 1/10, 1 + 1/10], [0.2*(-1 - 1/10), 0.2*(1 + 1/10)]]\n",
    ")\n",
    "\n",
    "p_lc_ = counts_leftclick/counts\n",
    "p_rc_ = counts_rightclick/counts\n",
    "p_lc_[np.isnan(p_lc_)] = 0\n",
    "p_rc_[np.isnan(p_rc_)] = 0\n",
    "\n",
    "u_ = np.zeros_like(x_)\n",
    "v_ = np.zeros_like(y_)\n",
    "u_left_ = np.zeros_like(x_)\n",
    "v_left_ = np.zeros_like(y_)\n",
    "u_right_ = np.zeros_like(x_)\n",
    "v_right_ = np.zeros_like(y_)\n",
    "energy_ = np.zeros_like(x_)\n",
    "energy_left_ = np.zeros_like(x_)\n",
    "energy_right_ = np.zeros_like(x_)\n",
    "w_ = np.zeros_like(x_)\n",
    "w_left_ = np.zeros_like(x_)\n",
    "w_right_ = np.zeros_like(x_)\n",
    "\n",
    "for i in range(resolution):\n",
    "    for j in range(resolution):\n",
    "        uv_left = np.array([-1/40, 0])\n",
    "        energy_left_[i, j] = np.linalg.norm(uv_left)\n",
    "        u_left_[i, j] = uv_left[0]\n",
    "        v_left_[i, j] = uv_left[1]\n",
    "\n",
    "for i in range(resolution):\n",
    "    for j in range(resolution):\n",
    "        uv_right = np.array([1/40, 0])\n",
    "        energy_right_[i, j] = np.linalg.norm(uv_right)\n",
    "        u_right_[i, j] = uv_right[0]\n",
    "        v_right_[i, j] = uv_right[1]"
   ]
  },
  {
   "cell_type": "code",
   "execution_count": 7,
   "id": "41af7d96",
   "metadata": {},
   "outputs": [
    {
     "name": "stderr",
     "output_type": "stream",
     "text": [
      "/var/folders/jn/x2x9w_8n77b_g5cnyyfbzc9w0000gp/T/ipykernel_7987/1675027636.py:17: DeprecationWarning: Please import `gaussian_filter` from the `scipy.ndimage` namespace; the `scipy.ndimage.filters` namespace is deprecated and will be removed in SciPy 2.0.0.\n",
      "  from scipy.ndimage.filters import gaussian_filter\n"
     ]
    }
   ],
   "source": [
    "# sample the colormaps that you want to use. Use 128 from each so we get 256\n",
    "# colors in total\n",
    "colors1 = plt.cm.copper_r(np.linspace(0., 1, 128))\n",
    "colors2 = plt.cm.gray(np.linspace(0, 1, 128))\n",
    "\n",
    "# combine them and build a new colormap\n",
    "colors_ = np.vstack((colors1, colors2))\n",
    "mymap = colors.LinearSegmentedColormap.from_list('my_colormap', colors_)\n",
    "\n",
    "cmap1 = colors.ListedColormap(['black'])\n",
    "colors1 = cmap1(np.linspace(0, 1, 30))\n",
    "colors2 = plt.cm.copper(np.linspace(0, 1, 128))\n",
    "\n",
    "colors_ = np.vstack((colors1, colors2))\n",
    "mymap2 = colors.LinearSegmentedColormap.from_list('my_colormap2', colors_)\n",
    "\n",
    "from scipy.ndimage.filters import gaussian_filter\n",
    "M = gaussian_filter(p_lc.T, sigma=7) + 0.001\n",
    "M1=M.reshape(11,10,11,10)\n",
    "M2=M1.mean(axis=(1,3))\n",
    "p_lc_m = M2.T\n",
    "\n",
    "M = gaussian_filter(p_rc.T, sigma=7) + 0.001\n",
    "M1=M.reshape(11,10,11,10)\n",
    "M2=M1.mean(axis=(1,3))\n",
    "p_rc_m = M2.T"
   ]
  },
  {
   "cell_type": "markdown",
   "id": "094aded9-d87c-448f-a55c-42078d7ae2e2",
   "metadata": {},
   "source": [
    "# Extended Data Figure 1c"
   ]
  },
  {
   "cell_type": "code",
   "execution_count": 8,
   "id": "5d633dc9",
   "metadata": {},
   "outputs": [
    {
     "data": {
      "text/plain": [
       "(-1.0, 1.0)"
      ]
     },
     "execution_count": 8,
     "metadata": {},
     "output_type": "execute_result"
    },
    {
     "data": {
      "image/png": "[encoded data removed]",
      "text/plain": [
       "<Figure size 300x300 with 1 Axes>"
      ]
     },
     "metadata": {},
     "output_type": "display_data"
    }
   ],
   "source": [
    "fig, ax = plt.subplots(figsize=(3, 3))\n",
    "\n",
    "cweight = np.array([[-1, 1], [0, 0]])/4\n",
    "clickperturb = np.array([1, 0]) @ cweight.T\n",
    "\n",
    "resolution = 11\n",
    "x_, y_ = np.meshgrid(\n",
    "    np.linspace(-1, 1, num=resolution), \n",
    "    np.linspace(-1, 1, num=resolution)\n",
    ")\n",
    "\n",
    "u_ = np.zeros_like(x_)\n",
    "v_ = np.zeros_like(y_)\n",
    "u_left_ = np.zeros_like(x_)\n",
    "v_left_ = np.zeros_like(y_)\n",
    "u_right_ = np.zeros_like(x_)\n",
    "v_right_ = np.zeros_like(y_)\n",
    "\n",
    "for i in range(resolution):\n",
    "    for j in range(resolution):\n",
    "        u_[i, j] = clickperturb[0]\n",
    "        v_[i, j] = clickperturb[1]\n",
    "\n",
    "ax.set_aspect('equal')\n",
    "ax.quiver(x_, y_, u_*p_lc_m.T, v_*p_lc_m.T, angles='xy', scale_units='xy', scale=0.2, color=blue)\n",
    "ax.spines['top'].set_visible(False)\n",
    "ax.spines['right'].set_visible(False)\n",
    "ax.spines['bottom'].set_linewidth(1)\n",
    "ax.spines['left'].set_linewidth(1)\n",
    "ax.set_xticks([])\n",
    "ax.set_yticks([])\n",
    "ax.tick_params(axis='both', which='major', labelsize=25)\n",
    "ax.set_xlim([-1, 1])\n",
    "ax.set_ylim([-1, 1])"
   ]
  },
  {
   "cell_type": "markdown",
   "id": "593d3003-94d1-4839-be42-4d26335077b8",
   "metadata": {},
   "source": [
    "# Extended Data Figure 1d"
   ]
  },
  {
   "cell_type": "code",
   "execution_count": 9,
   "id": "e3507c06",
   "metadata": {},
   "outputs": [
    {
     "data": {
      "text/plain": [
       "(-1.0, 1.0)"
      ]
     },
     "execution_count": 9,
     "metadata": {},
     "output_type": "execute_result"
    },
    {
     "data": {
      "image/png": "[encoded data removed]",
      "text/plain": [
       "<Figure size 300x300 with 1 Axes>"
      ]
     },
     "metadata": {},
     "output_type": "display_data"
    }
   ],
   "source": [
    "fig, ax = plt.subplots(figsize=(3, 3))\n",
    "\n",
    "cweight = np.array([[-1, 1], [0, 0]])/4\n",
    "clickperturb = np.array([1, 0]) @ cweight.T\n",
    "\n",
    "resolution = 11\n",
    "x_, y_ = np.meshgrid(\n",
    "    np.linspace(-1, 1, num=resolution), \n",
    "    np.linspace(-1, 1, num=resolution)\n",
    ")\n",
    "\n",
    "u_ = np.zeros_like(x_)\n",
    "v_ = np.zeros_like(y_)\n",
    "u_left_ = np.zeros_like(x_)\n",
    "v_left_ = np.zeros_like(y_)\n",
    "u_right_ = np.zeros_like(x_)\n",
    "v_right_ = np.zeros_like(y_)\n",
    "\n",
    "for i in range(resolution):\n",
    "    for j in range(resolution):\n",
    "        u_[i, j] = clickperturb[0]\n",
    "        v_[i, j] = clickperturb[1]\n",
    "\n",
    "ax.set_aspect('equal')\n",
    "ax.quiver(-x_, y_, -u_*p_lc_m.T, v_*p_lc_m.T, angles='xy', scale_units='xy', scale=0.2, color=red)\n",
    "ax.spines['top'].set_visible(False)\n",
    "ax.spines['right'].set_visible(False)\n",
    "ax.spines['bottom'].set_linewidth(1)\n",
    "ax.spines['left'].set_linewidth(1)\n",
    "ax.set_xticks([])\n",
    "ax.set_yticks([])\n",
    "ax.tick_params(axis='both', which='major', labelsize=25)\n",
    "ax.set_xlim([-1, 1])\n",
    "ax.set_ylim([-1, 1])"
   ]
  },
  {
   "cell_type": "markdown",
   "id": "ba2ee5b5-1f72-4e70-bd56-82037382011b",
   "metadata": {},
   "source": [
    "# Extended Data Figure 1e"
   ]
  },
  {
   "cell_type": "code",
   "execution_count": 10,
   "id": "177cba58",
   "metadata": {},
   "outputs": [
    {
     "data": {
      "image/png": "[encoded data removed]",
      "text/plain": [
       "<Figure size 300x300 with 2 Axes>"
      ]
     },
     "metadata": {},
     "output_type": "display_data"
    }
   ],
   "source": [
    "fig, ax = plt.subplots(figsize=(3, 3))\n",
    "\n",
    "resolution = 110\n",
    "x, y = np.meshgrid(\n",
    "    np.linspace(-1, 1, num=resolution), \n",
    "    np.linspace(-1, 1, num=resolution)\n",
    ")\n",
    "     \n",
    "ax.set_aspect('equal')\n",
    "c1 = ax.pcolormesh(\n",
    "    x,\n",
    "    y,\n",
    "    gaussian_filter((p_lc.T + p_rc.T)/2, sigma=10) + 0.001, \n",
    "    cmap=mymap2, \n",
    "    norm=matplotlib.colors.LogNorm(vmin=0.01, vmax=0.1)\n",
    ")\n",
    "\n",
    "ax.spines['top'].set_visible(False)\n",
    "ax.spines['right'].set_visible(False)\n",
    "ax.spines['bottom'].set_linewidth(1)\n",
    "ax.spines['left'].set_linewidth(1)\n",
    "ax.set_xticks([])\n",
    "ax.set_yticks([])\n",
    "ax.tick_params(axis='both', which='major', labelsize=25)\n",
    "ax.set_xlim([-1, 1])\n",
    "ax.set_ylim([-1, 1])\n",
    "\n",
    "cbar = fig.colorbar(c1, ax=ax, fraction=0.045, pad=0.04)\n",
    "cbar.ax.set_yscale('log')\n",
    "cbar.ax.set_yticks([])\n",
    "cbar.ax.tick_params(labelsize=25)"
   ]
  },
  {
   "cell_type": "markdown",
   "id": "52ba1ca8-e7b8-48a8-aecc-36e1d3f7299f",
   "metadata": {},
   "source": [
    "# Extended Data Figure 1g"
   ]
  },
  {
   "cell_type": "markdown",
   "id": "18fe44dd-5a21-4c15-9a5e-68eaf04ae2f3",
   "metadata": {},
   "source": [
    "## Define color maps"
   ]
  },
  {
   "cell_type": "code",
   "execution_count": 11,
   "id": "e942cafa-e59d-4561-9b48-fd777e360446",
   "metadata": {},
   "outputs": [],
   "source": [
    "import csv\n",
    "\n",
    "scw = []\n",
    "\n",
    "with open('../../data/processed_data/common/smooth-cool-warm-table-float-1024.csv', mode='r') as infile:\n",
    "    reader = csv.reader(infile)\n",
    "    for i, rows in enumerate(reader):\n",
    "        if i > 0:\n",
    "            r = [float(i) for i in rows]\n",
    "            scw.append(tuple(r[1:]))\n",
    "            scw.append(r[0])\n",
    "            \n",
    "def make_colormap(seq):\n",
    "    \"\"\"Return a LinearSegmentedColormap\n",
    "    seq: a sequence of floats and RGB-tuples. The floats should be increasing\n",
    "    and in the interval (0,1).\n",
    "    \"\"\"\n",
    "    seq = list(seq) + [(None,) * 3]\n",
    "    cdict = {'red': [], 'green': [], 'blue': []}\n",
    "    for i, item in enumerate(seq):\n",
    "        if isinstance(item, float):\n",
    "            r1, g1, b1 = seq[i - 1]\n",
    "            r2, g2, b2 = seq[i + 1]\n",
    "            cdict['red'].append([item, r1, r2])\n",
    "            cdict['green'].append([item, g1, g2])\n",
    "            cdict['blue'].append([item, b1, b2])\n",
    "    return colors.LinearSegmentedColormap('CustomMap', cdict)\n",
    "\n",
    "c = colors.ColorConverter().to_rgb\n",
    "rvb = make_colormap(scw)\n",
    "cmap = rvb"
   ]
  },
  {
   "cell_type": "markdown",
   "id": "0ee3e8f6-ff91-48da-91be-129ae90c017c",
   "metadata": {},
   "source": [
    "## Load fits from FINDR"
   ]
  },
  {
   "cell_type": "code",
   "execution_count": 12,
   "id": "405fcda8-bd3b-4397-9c64-d54f485938f1",
   "metadata": {},
   "outputs": [],
   "source": [
    "data = np.load(\"../../data/processed_data/extended_data_figure_1/ddmlineattractor.npz\")\n",
    "x = data['x']\n",
    "y = data['y']\n",
    "u = data['u']\n",
    "v = data['v']\n",
    "w = data['w']\n",
    "energy = data['energy']\n",
    "x_ = data['x_']\n",
    "y_ = data['y_']\n",
    "u_ = data['u_']\n",
    "v_ = data['v_']\n",
    "w_ = data['w_']\n",
    "energy_ = data['energy_']\n",
    "u_left = data['u_left']\n",
    "v_left = data['v_left']\n",
    "w_left = data['w_left']\n",
    "energy_left = data['energy_left']\n",
    "u_right = data['u_right']\n",
    "v_right = data['v_right']\n",
    "w_right = data['w_right']\n",
    "energy_right = data['energy_right']\n",
    "u_left_ = data['u_left_']\n",
    "v_left_ = data['v_left_']\n",
    "w_left_ = data['w_left_']\n",
    "energy_left_ = data['energy_left_']\n",
    "u_right_ = data['u_right_']\n",
    "v_right_ = data['v_right_']\n",
    "w_right_ = data['w_right_']\n",
    "energy_right_ = data['energy_right_']   \n",
    "p_lc = data['p_lc']\n",
    "p_rc = data['p_rc']\n",
    "p_lc_ = data['p_lc_']\n",
    "p_rc_ = data['p_rc_']\n",
    "z_pc_ = data['z_pc_']\n",
    "gammas = np.load(\"../../data/processed_data/common/gammas.npy\")"
   ]
  },
  {
   "cell_type": "markdown",
   "id": "9b768376-45b8-47b3-bdda-246db4793640",
   "metadata": {},
   "source": [
    "## Generate plot"
   ]
  },
  {
   "cell_type": "code",
   "execution_count": 13,
   "id": "abfb0bb2-1539-471a-8be5-7a0769a8bdc7",
   "metadata": {},
   "outputs": [
    {
     "data": {
      "image/png": "[encoded data removed]",
      "text/plain": [
       "<Figure size 500x500 with 1 Axes>"
      ]
     },
     "metadata": {},
     "output_type": "display_data"
    }
   ],
   "source": [
    "flip_horizontally = -1\n",
    "flip_vertically = 1\n",
    "\n",
    "fig, ax = plt.subplots(1, figsize=(5, 5))\n",
    "\n",
    "xrange = -6*min(\n",
    "    np.round(np.min(z_pc_[:,0]).item()), np.round(np.max(z_pc_[:,0]).item())\n",
    ")/4\n",
    "\n",
    "evidences = [-3.5, -2.5, -1.5, -0.5, 0.5, 1.5, 2.5, 3.5] # in gamma\n",
    "\n",
    "# compute the evidence-conditioned average trajectories\n",
    "avg_trajectories = [np.mean(z_pc_[(gammas == evidences[i]),:,:], axis=0) for i in range(len(evidences))]\n",
    "norm = colors.Normalize(vmin=-3.5, vmax=3.5)\n",
    "\n",
    "ax.quiver(\n",
    "    flip_horizontally * x_/xrange, \n",
    "    flip_vertically * y_/xrange, \n",
    "    flip_horizontally * u_/xrange, \n",
    "    flip_vertically * v_/xrange, \n",
    "    angles='xy', color='black', scale_units='xy', scale=15, zorder=150\n",
    ")\n",
    "\n",
    "ax.pcolormesh(\n",
    "    flip_horizontally * x/xrange, \n",
    "    flip_vertically * y/xrange, \n",
    "    energy, \n",
    "    cmap='gray', \n",
    "    norm=colors.LogNorm(vmin=0.1, vmax=1)\n",
    ")\n",
    "\n",
    "for i in range(len(evidences)):\n",
    "    ax.plot(\n",
    "        flip_horizontally * avg_trajectories[i][:, 0]/xrange, \n",
    "        flip_vertically * avg_trajectories[i][:, 1]/xrange, \n",
    "        '-', color=cmap(norm(evidences[i])), zorder=1100\n",
    "    )\n",
    "    ax.plot(\n",
    "        [flip_horizontally * avg_trajectories[i][-1, 0]/xrange], \n",
    "        [flip_vertically * avg_trajectories[i][-1, 1]/xrange], \n",
    "        'o', markersize=10, color=cmap(norm(evidences[i])), zorder=1100\n",
    "    )\n",
    "\n",
    "ax.set_ylabel(\"PC 2\", fontsize=20)\n",
    "ax.set_xlabel(\"PC 1\", fontsize=20)\n",
    "ax.set_xticks([])\n",
    "ax.set_yticks([])\n",
    "ax.tick_params(axis='both', which='major', labelsize=20)\n",
    "\n",
    "ax.spines['top'].set_visible(False)\n",
    "ax.spines['right'].set_visible(False)\n",
    "fig.tight_layout()"
   ]
  }
 ],
 "metadata": {
  "kernelspec": {
   "display_name": "Python 3 (ipykernel)",
   "language": "python",
   "name": "python3"
  },
  "language_info": {
   "codemirror_mode": {
    "name": "ipython",
    "version": 3
   },
   "file_extension": ".py",
   "mimetype": "text/x-python",
   "name": "python",
   "nbconvert_exporter": "python",
   "pygments_lexer": "ipython3",
   "version": "3.12.10"
  }
 },
 "nbformat": 4,
 "nbformat_minor": 5
}
